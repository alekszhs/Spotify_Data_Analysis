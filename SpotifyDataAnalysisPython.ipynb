{
 "cells": [
  {
   "cell_type": "markdown",
   "id": "55466d0f-3bb9-43aa-a57a-54863dbbee34",
   "metadata": {},
   "source": [
    "<p style=\"font-size:40px;\">Spotify Data Analysis Project</p>\n",
    "\n",
    "# 🎧 Introduction\n",
    "\n",
    "## This project explores a personal listening history dataset exported from Spotify. The CSV file, spotify_history.csv, contains detailed information about individual playback sessions, including timestamps, track titles, artist names, duration played (in milliseconds), and other relevant metadata. The goal of this analysis is to uncover meaningful patterns in listening habits — such as top artists, most-played songs, peak listening hours, and daily or seasonal trends. By cleaning, transforming, and visualizing the data, we aim to generate insights into music preferences and user behavior over time, while also practicing core data analysis techniques using Python, Pandas, and Matplotlib.\n"
   ]
  },
  {
   "cell_type": "markdown",
   "id": "588d81a1-e8a7-499f-a1f8-ce8d195c01a7",
   "metadata": {},
   "source": [
    "# Importing DataSets"
   ]
  },
  {
   "cell_type": "code",
   "execution_count": 1,
   "id": "84bfb048-21ef-45a8-b0a2-ce962b021e00",
   "metadata": {},
   "outputs": [],
   "source": [
    "import pandas as pd\n",
    "import numpy as np\n",
    "import matplotlib.pyplot as plt\n",
    "%matplotlib inline\n",
    "\n"
   ]
  },
  {
   "cell_type": "code",
   "execution_count": 3,
   "id": "e50a52d3-267d-4391-8e7b-1c236935b2b6",
   "metadata": {},
   "outputs": [],
   "source": [
    "location = r\"C:\\Users\\Administrator\\Desktop\\spotify_history.csv\"\n",
    "df = pd.read_csv(location)"
   ]
  },
  {
   "cell_type": "markdown",
   "id": "0c2b60b6-7e7c-41db-b005-41226734b7d0",
   "metadata": {},
   "source": [
    "# 🧠 Extracting Information\n",
    "\n",
    "## To prepare the dataset for analysis, we extracted additional insights from the existing columns. This process involved transforming raw data into more meaningful features that allow for deeper exploration and pattern detection.\n",
    "\n",
    "## For example:\n",
    "\n",
    "    Datetime Parsing: The timestamp (ts) column was converted from string format into Python datetime objects. This enabled us to extract dates, times, day of week, hour of the day, and other temporal components for time-based analysis.\n",
    "\n",
    "    Duration Conversion: The ms_played column, which originally represented the duration of each play session in milliseconds, was converted into seconds for better readability and interpretation.\n",
    "\n",
    "    Missing Value Handling: We also cleaned the data by filling in or flagging missing values (e.g., reasons for playback start) to maintain the integrity of our analysis."
   ]
  },
  {
   "cell_type": "code",
   "execution_count": 5,
   "id": "d6106c03-f878-4782-abc9-a89f439d067b",
   "metadata": {
    "scrolled": true
   },
   "outputs": [
    {
     "data": {
      "text/html": [
       "<div>\n",
       "<style scoped>\n",
       "    .dataframe tbody tr th:only-of-type {\n",
       "        vertical-align: middle;\n",
       "    }\n",
       "\n",
       "    .dataframe tbody tr th {\n",
       "        vertical-align: top;\n",
       "    }\n",
       "\n",
       "    .dataframe thead th {\n",
       "        text-align: right;\n",
       "    }\n",
       "</style>\n",
       "<table border=\"1\" class=\"dataframe\">\n",
       "  <thead>\n",
       "    <tr style=\"text-align: right;\">\n",
       "      <th></th>\n",
       "      <th>spotify_track_uri</th>\n",
       "      <th>ts</th>\n",
       "      <th>platform</th>\n",
       "      <th>ms_played</th>\n",
       "      <th>track_name</th>\n",
       "      <th>artist_name</th>\n",
       "      <th>album_name</th>\n",
       "      <th>reason_start</th>\n",
       "      <th>reason_end</th>\n",
       "      <th>shuffle</th>\n",
       "      <th>skipped</th>\n",
       "    </tr>\n",
       "  </thead>\n",
       "  <tbody>\n",
       "    <tr>\n",
       "      <th>0</th>\n",
       "      <td>2J3n32GeLmMjwuAzyhcSNe</td>\n",
       "      <td>2013-07-08 02:44:34</td>\n",
       "      <td>web player</td>\n",
       "      <td>3185</td>\n",
       "      <td>Say It, Just Say It</td>\n",
       "      <td>The Mowgli's</td>\n",
       "      <td>Waiting For The Dawn</td>\n",
       "      <td>autoplay</td>\n",
       "      <td>clickrow</td>\n",
       "      <td>False</td>\n",
       "      <td>False</td>\n",
       "    </tr>\n",
       "    <tr>\n",
       "      <th>1</th>\n",
       "      <td>1oHxIPqJyvAYHy0PVrDU98</td>\n",
       "      <td>2013-07-08 02:45:37</td>\n",
       "      <td>web player</td>\n",
       "      <td>61865</td>\n",
       "      <td>Drinking from the Bottle (feat. Tinie Tempah)</td>\n",
       "      <td>Calvin Harris</td>\n",
       "      <td>18 Months</td>\n",
       "      <td>clickrow</td>\n",
       "      <td>clickrow</td>\n",
       "      <td>False</td>\n",
       "      <td>False</td>\n",
       "    </tr>\n",
       "    <tr>\n",
       "      <th>2</th>\n",
       "      <td>487OPlneJNni3NWC8SYqhW</td>\n",
       "      <td>2013-07-08 02:50:24</td>\n",
       "      <td>web player</td>\n",
       "      <td>285386</td>\n",
       "      <td>Born To Die</td>\n",
       "      <td>Lana Del Rey</td>\n",
       "      <td>Born To Die - The Paradise Edition</td>\n",
       "      <td>clickrow</td>\n",
       "      <td>unknown</td>\n",
       "      <td>False</td>\n",
       "      <td>False</td>\n",
       "    </tr>\n",
       "    <tr>\n",
       "      <th>3</th>\n",
       "      <td>5IyblF777jLZj1vGHG2UD3</td>\n",
       "      <td>2013-07-08 02:52:40</td>\n",
       "      <td>web player</td>\n",
       "      <td>134022</td>\n",
       "      <td>Off To The Races</td>\n",
       "      <td>Lana Del Rey</td>\n",
       "      <td>Born To Die - The Paradise Edition</td>\n",
       "      <td>trackdone</td>\n",
       "      <td>clickrow</td>\n",
       "      <td>False</td>\n",
       "      <td>False</td>\n",
       "    </tr>\n",
       "    <tr>\n",
       "      <th>4</th>\n",
       "      <td>0GgAAB0ZMllFhbNc3mAodO</td>\n",
       "      <td>2013-07-08 03:17:52</td>\n",
       "      <td>web player</td>\n",
       "      <td>0</td>\n",
       "      <td>Half Mast</td>\n",
       "      <td>Empire Of The Sun</td>\n",
       "      <td>Walking On A Dream</td>\n",
       "      <td>clickrow</td>\n",
       "      <td>nextbtn</td>\n",
       "      <td>False</td>\n",
       "      <td>False</td>\n",
       "    </tr>\n",
       "  </tbody>\n",
       "</table>\n",
       "</div>"
      ],
      "text/plain": [
       "        spotify_track_uri                   ts    platform  ms_played  \\\n",
       "0  2J3n32GeLmMjwuAzyhcSNe  2013-07-08 02:44:34  web player       3185   \n",
       "1  1oHxIPqJyvAYHy0PVrDU98  2013-07-08 02:45:37  web player      61865   \n",
       "2  487OPlneJNni3NWC8SYqhW  2013-07-08 02:50:24  web player     285386   \n",
       "3  5IyblF777jLZj1vGHG2UD3  2013-07-08 02:52:40  web player     134022   \n",
       "4  0GgAAB0ZMllFhbNc3mAodO  2013-07-08 03:17:52  web player          0   \n",
       "\n",
       "                                      track_name        artist_name  \\\n",
       "0                            Say It, Just Say It       The Mowgli's   \n",
       "1  Drinking from the Bottle (feat. Tinie Tempah)      Calvin Harris   \n",
       "2                                    Born To Die       Lana Del Rey   \n",
       "3                               Off To The Races       Lana Del Rey   \n",
       "4                                      Half Mast  Empire Of The Sun   \n",
       "\n",
       "                           album_name reason_start reason_end  shuffle  \\\n",
       "0                Waiting For The Dawn     autoplay   clickrow    False   \n",
       "1                           18 Months     clickrow   clickrow    False   \n",
       "2  Born To Die - The Paradise Edition     clickrow    unknown    False   \n",
       "3  Born To Die - The Paradise Edition    trackdone   clickrow    False   \n",
       "4                  Walking On A Dream     clickrow    nextbtn    False   \n",
       "\n",
       "   skipped  \n",
       "0    False  \n",
       "1    False  \n",
       "2    False  \n",
       "3    False  \n",
       "4    False  "
      ]
     },
     "execution_count": 5,
     "metadata": {},
     "output_type": "execute_result"
    }
   ],
   "source": [
    "df.head(5)"
   ]
  },
  {
   "cell_type": "code",
   "execution_count": 6,
   "id": "41765e01-7c4c-4d7a-9487-d1049deee2c9",
   "metadata": {},
   "outputs": [
    {
     "data": {
      "text/html": [
       "<div>\n",
       "<style scoped>\n",
       "    .dataframe tbody tr th:only-of-type {\n",
       "        vertical-align: middle;\n",
       "    }\n",
       "\n",
       "    .dataframe tbody tr th {\n",
       "        vertical-align: top;\n",
       "    }\n",
       "\n",
       "    .dataframe thead th {\n",
       "        text-align: right;\n",
       "    }\n",
       "</style>\n",
       "<table border=\"1\" class=\"dataframe\">\n",
       "  <thead>\n",
       "    <tr style=\"text-align: right;\">\n",
       "      <th></th>\n",
       "      <th>spotify_track_uri</th>\n",
       "      <th>ts</th>\n",
       "      <th>platform</th>\n",
       "      <th>ms_played</th>\n",
       "      <th>track_name</th>\n",
       "      <th>artist_name</th>\n",
       "      <th>album_name</th>\n",
       "      <th>reason_start</th>\n",
       "      <th>reason_end</th>\n",
       "      <th>shuffle</th>\n",
       "      <th>skipped</th>\n",
       "    </tr>\n",
       "  </thead>\n",
       "  <tbody>\n",
       "    <tr>\n",
       "      <th>60952</th>\n",
       "      <td>0vC5MmnhcAZpKeuI1HhcYA</td>\n",
       "      <td>2019-10-14 21:27:11</td>\n",
       "      <td>android</td>\n",
       "      <td>1202</td>\n",
       "      <td>Hold On To What You Believe</td>\n",
       "      <td>Mumford &amp; Sons</td>\n",
       "      <td>Sigh No More</td>\n",
       "      <td>fwdbtn</td>\n",
       "      <td>backbtn</td>\n",
       "      <td>True</td>\n",
       "      <td>False</td>\n",
       "    </tr>\n",
       "    <tr>\n",
       "      <th>116084</th>\n",
       "      <td>0HTFDQQb7auJ2dZwXtPK5e</td>\n",
       "      <td>2022-03-10 04:22:29</td>\n",
       "      <td>android</td>\n",
       "      <td>260466</td>\n",
       "      <td>Host of a Ghost</td>\n",
       "      <td>Porter</td>\n",
       "      <td>Atemahawke</td>\n",
       "      <td>trackdone</td>\n",
       "      <td>trackdone</td>\n",
       "      <td>False</td>\n",
       "      <td>False</td>\n",
       "    </tr>\n",
       "    <tr>\n",
       "      <th>69805</th>\n",
       "      <td>5UimLzrkc72ST1fQRuwQKs</td>\n",
       "      <td>2020-04-07 17:31:20</td>\n",
       "      <td>cast to device</td>\n",
       "      <td>345254</td>\n",
       "      <td>Everything Will Be Alright</td>\n",
       "      <td>The Killers</td>\n",
       "      <td>Hot Fuss</td>\n",
       "      <td>trackdone</td>\n",
       "      <td>trackdone</td>\n",
       "      <td>False</td>\n",
       "      <td>False</td>\n",
       "    </tr>\n",
       "  </tbody>\n",
       "</table>\n",
       "</div>"
      ],
      "text/plain": [
       "             spotify_track_uri                   ts        platform  \\\n",
       "60952   0vC5MmnhcAZpKeuI1HhcYA  2019-10-14 21:27:11         android   \n",
       "116084  0HTFDQQb7auJ2dZwXtPK5e  2022-03-10 04:22:29         android   \n",
       "69805   5UimLzrkc72ST1fQRuwQKs  2020-04-07 17:31:20  cast to device   \n",
       "\n",
       "        ms_played                   track_name     artist_name    album_name  \\\n",
       "60952        1202  Hold On To What You Believe  Mumford & Sons  Sigh No More   \n",
       "116084     260466              Host of a Ghost          Porter    Atemahawke   \n",
       "69805      345254   Everything Will Be Alright     The Killers      Hot Fuss   \n",
       "\n",
       "       reason_start reason_end  shuffle  skipped  \n",
       "60952        fwdbtn    backbtn     True    False  \n",
       "116084    trackdone  trackdone    False    False  \n",
       "69805     trackdone  trackdone    False    False  "
      ]
     },
     "execution_count": 6,
     "metadata": {},
     "output_type": "execute_result"
    }
   ],
   "source": [
    "df.sample(3)"
   ]
  },
  {
   "cell_type": "code",
   "execution_count": 7,
   "id": "c064204e-5d75-4aa6-a9af-5cce2ad00a87",
   "metadata": {},
   "outputs": [
    {
     "name": "stdout",
     "output_type": "stream",
     "text": [
      "<class 'pandas.core.frame.DataFrame'>\n",
      "RangeIndex: 149860 entries, 0 to 149859\n",
      "Data columns (total 11 columns):\n",
      " #   Column             Non-Null Count   Dtype \n",
      "---  ------             --------------   ----- \n",
      " 0   spotify_track_uri  149860 non-null  object\n",
      " 1   ts                 149860 non-null  object\n",
      " 2   platform           149860 non-null  object\n",
      " 3   ms_played          149860 non-null  int64 \n",
      " 4   track_name         149860 non-null  object\n",
      " 5   artist_name        149860 non-null  object\n",
      " 6   album_name         149860 non-null  object\n",
      " 7   reason_start       149717 non-null  object\n",
      " 8   reason_end         149743 non-null  object\n",
      " 9   shuffle            149860 non-null  bool  \n",
      " 10  skipped            149860 non-null  bool  \n",
      "dtypes: bool(2), int64(1), object(8)\n",
      "memory usage: 10.6+ MB\n"
     ]
    }
   ],
   "source": [
    "df.info()"
   ]
  },
  {
   "cell_type": "code",
   "execution_count": 8,
   "id": "c038b98d-5c99-4d4f-916a-bfaae3a47c41",
   "metadata": {},
   "outputs": [
    {
     "data": {
      "text/plain": [
       "spotify_track_uri    object\n",
       "ts                   object\n",
       "platform             object\n",
       "ms_played             int64\n",
       "track_name           object\n",
       "artist_name          object\n",
       "album_name           object\n",
       "reason_start         object\n",
       "reason_end           object\n",
       "shuffle                bool\n",
       "skipped                bool\n",
       "dtype: object"
      ]
     },
     "execution_count": 8,
     "metadata": {},
     "output_type": "execute_result"
    }
   ],
   "source": [
    "df.dtypes"
   ]
  },
  {
   "cell_type": "code",
   "execution_count": 9,
   "id": "116e3eeb-397a-4d22-ba70-46dab284b42e",
   "metadata": {},
   "outputs": [
    {
     "data": {
      "text/plain": [
       "(149860, 11)"
      ]
     },
     "execution_count": 9,
     "metadata": {},
     "output_type": "execute_result"
    }
   ],
   "source": [
    "df.shape"
   ]
  },
  {
   "cell_type": "code",
   "execution_count": 10,
   "id": "73bfcd2d-92fb-4460-b585-0df30908e50b",
   "metadata": {},
   "outputs": [
    {
     "data": {
      "text/plain": [
       "<bound method NDFrame.describe of              spotify_track_uri                   ts    platform  ms_played  \\\n",
       "0       2J3n32GeLmMjwuAzyhcSNe  2013-07-08 02:44:34  web player       3185   \n",
       "1       1oHxIPqJyvAYHy0PVrDU98  2013-07-08 02:45:37  web player      61865   \n",
       "2       487OPlneJNni3NWC8SYqhW  2013-07-08 02:50:24  web player     285386   \n",
       "3       5IyblF777jLZj1vGHG2UD3  2013-07-08 02:52:40  web player     134022   \n",
       "4       0GgAAB0ZMllFhbNc3mAodO  2013-07-08 03:17:52  web player          0   \n",
       "...                        ...                  ...         ...        ...   \n",
       "149855  4Fz1WWr5o0OrlIcZxcyZtK  2024-12-15 23:06:19     android       1247   \n",
       "149856  0qHMhBZqYb99yhX9BHcIkV  2024-12-15 23:06:21     android       1515   \n",
       "149857  0HHdujGjOZChTrl8lJWEIq  2024-12-15 23:06:22     android       1283   \n",
       "149858  7peh6LUcdNPcMdrSH4JPsM  2024-12-15 23:06:23     android       1306   \n",
       "149859  6iGU74CwXuT4XVepjc9Emf  2024-12-15 23:06:25     android       1893   \n",
       "\n",
       "                                               track_name        artist_name  \\\n",
       "0                                     Say It, Just Say It       The Mowgli's   \n",
       "1           Drinking from the Bottle (feat. Tinie Tempah)      Calvin Harris   \n",
       "2                                             Born To Die       Lana Del Rey   \n",
       "3                                        Off To The Races       Lana Del Rey   \n",
       "4                                               Half Mast  Empire Of The Sun   \n",
       "...                                                   ...                ...   \n",
       "149855                                    On The Way Home         John Mayer   \n",
       "149856             Magical Mystery Tour - Remastered 2009        The Beatles   \n",
       "149857  Stop This Train - Live at the Nokia Theatre, L...         John Mayer   \n",
       "149858             I Don't Trust Myself (With Loving You)         John Mayer   \n",
       "149859                              God Only Knows - Mono     The Beach Boys   \n",
       "\n",
       "                                               album_name reason_start  \\\n",
       "0                                    Waiting For The Dawn     autoplay   \n",
       "1                                               18 Months     clickrow   \n",
       "2                      Born To Die - The Paradise Edition     clickrow   \n",
       "3                      Born To Die - The Paradise Edition    trackdone   \n",
       "4                                      Walking On A Dream     clickrow   \n",
       "...                                                   ...          ...   \n",
       "149855                                    Paradise Valley       fwdbtn   \n",
       "149856                               Magical Mystery Tour       fwdbtn   \n",
       "149857  Where the Light Is: John Mayer Live In Los Ang...       fwdbtn   \n",
       "149858                                          Continuum       fwdbtn   \n",
       "149859                                         Pet Sounds       fwdbtn   \n",
       "\n",
       "       reason_end  shuffle  skipped  \n",
       "0        clickrow    False    False  \n",
       "1        clickrow    False    False  \n",
       "2         unknown    False    False  \n",
       "3        clickrow    False    False  \n",
       "4         nextbtn    False    False  \n",
       "...           ...      ...      ...  \n",
       "149855     fwdbtn     True     True  \n",
       "149856     fwdbtn     True     True  \n",
       "149857     fwdbtn     True     True  \n",
       "149858     fwdbtn     True     True  \n",
       "149859     fwdbtn     True     True  \n",
       "\n",
       "[149860 rows x 11 columns]>"
      ]
     },
     "execution_count": 10,
     "metadata": {},
     "output_type": "execute_result"
    }
   ],
   "source": [
    "df.describe"
   ]
  },
  {
   "cell_type": "markdown",
   "id": "677168c5-9f8e-4252-a70b-97dded7b9015",
   "metadata": {},
   "source": [
    "# Convert 'ts' column into datetime for analyzing purposes"
   ]
  },
  {
   "cell_type": "code",
   "execution_count": 11,
   "id": "26be28d2-2a59-4a05-a83e-073e5e12058d",
   "metadata": {},
   "outputs": [],
   "source": [
    "df['ts'] = pd.to_datetime(df['ts'])\n",
    "df['date'] = df['ts'].dt.date\n",
    "df['hour'] = df['ts'].dt.hour\n",
    "df['day'] = df['ts'].dt.day\n",
    "df['month'] = df['ts'].dt.month"
   ]
  },
  {
   "cell_type": "code",
   "execution_count": 12,
   "id": "95788cba-8b40-49a6-9f79-f99362107c39",
   "metadata": {},
   "outputs": [
    {
     "data": {
      "text/plain": [
       "74388    19\n",
       "99046     1\n",
       "91422    20\n",
       "Name: day, dtype: int32"
      ]
     },
     "execution_count": 12,
     "metadata": {},
     "output_type": "execute_result"
    }
   ],
   "source": [
    "df['day'].sample(3)"
   ]
  },
  {
   "cell_type": "code",
   "execution_count": 13,
   "id": "c72a0c8f-fc79-477c-9c1d-7c507cff54d5",
   "metadata": {},
   "outputs": [
    {
     "data": {
      "text/plain": [
       "spotify_track_uri            object\n",
       "ts                   datetime64[ns]\n",
       "platform                     object\n",
       "ms_played                     int64\n",
       "track_name                   object\n",
       "artist_name                  object\n",
       "album_name                   object\n",
       "reason_start                 object\n",
       "reason_end                   object\n",
       "shuffle                        bool\n",
       "skipped                        bool\n",
       "date                         object\n",
       "hour                          int32\n",
       "day                           int32\n",
       "month                         int32\n",
       "dtype: object"
      ]
     },
     "execution_count": 13,
     "metadata": {},
     "output_type": "execute_result"
    }
   ],
   "source": [
    "df.dtypes"
   ]
  },
  {
   "cell_type": "markdown",
   "id": "917bb38b-349e-4741-aca6-73bebd0f7842",
   "metadata": {},
   "source": [
    "# Remove ms_played equal to zero"
   ]
  },
  {
   "cell_type": "code",
   "execution_count": 14,
   "id": "ab26f8e6-ee25-4b65-a418-8b04763e1079",
   "metadata": {},
   "outputs": [],
   "source": [
    "df = df[df['ms_played'] > 0].copy()\n"
   ]
  },
  {
   "cell_type": "markdown",
   "id": "f6312b4a-abec-4072-9687-030db9806449",
   "metadata": {},
   "source": [
    "# Convert 'ms_played to minutes'"
   ]
  },
  {
   "cell_type": "code",
   "execution_count": 15,
   "id": "127a697c-a2ee-4ff8-8eb1-9b2eb91322b1",
   "metadata": {},
   "outputs": [],
   "source": [
    "df['seconds_played'] = (df['ms_played'] / 1000 ).round(3)"
   ]
  },
  {
   "cell_type": "code",
   "execution_count": 16,
   "id": "93509d6e-2485-4ef1-9c04-5c41cc472329",
   "metadata": {},
   "outputs": [
    {
     "data": {
      "text/plain": [
       "0       3.185\n",
       "1      61.865\n",
       "2     285.386\n",
       "3     134.022\n",
       "5      63.485\n",
       "7       1.268\n",
       "10     67.587\n",
       "11     12.846\n",
       "12     36.132\n",
       "13     95.817\n",
       "14      1.763\n",
       "15     45.712\n",
       "16    228.021\n",
       "17    229.589\n",
       "18      7.332\n",
       "19    217.935\n",
       "20     76.303\n",
       "21     10.579\n",
       "23     81.893\n",
       "25    238.837\n",
       "Name: seconds_played, dtype: float64"
      ]
     },
     "execution_count": 16,
     "metadata": {},
     "output_type": "execute_result"
    }
   ],
   "source": [
    "df['seconds_played'].head(20)"
   ]
  },
  {
   "cell_type": "markdown",
   "id": "24ac3f6d-6720-4403-b97c-78253f1b3353",
   "metadata": {},
   "source": [
    "# Check for Null Values"
   ]
  },
  {
   "cell_type": "code",
   "execution_count": 17,
   "id": "d012ca5f-917b-492c-a68b-37c66bd94537",
   "metadata": {},
   "outputs": [
    {
     "data": {
      "text/plain": [
       "spotify_track_uri      0\n",
       "ts                     0\n",
       "platform               0\n",
       "ms_played              0\n",
       "track_name             0\n",
       "artist_name            0\n",
       "album_name             0\n",
       "reason_start         134\n",
       "reason_end           110\n",
       "shuffle                0\n",
       "skipped                0\n",
       "date                   0\n",
       "hour                   0\n",
       "day                    0\n",
       "month                  0\n",
       "seconds_played         0\n",
       "dtype: int64"
      ]
     },
     "execution_count": 17,
     "metadata": {},
     "output_type": "execute_result"
    }
   ],
   "source": [
    "df.isnull().sum()"
   ]
  },
  {
   "cell_type": "code",
   "execution_count": 18,
   "id": "baaf2301-9cd8-48be-99e0-e42102ded178",
   "metadata": {},
   "outputs": [
    {
     "data": {
      "text/plain": [
       "0      autoplay\n",
       "1      clickrow\n",
       "2      clickrow\n",
       "3     trackdone\n",
       "5      clickrow\n",
       "7       nextbtn\n",
       "10     clickrow\n",
       "11     clickrow\n",
       "12     clickrow\n",
       "13     clickrow\n",
       "Name: reason_start, dtype: object"
      ]
     },
     "execution_count": 18,
     "metadata": {},
     "output_type": "execute_result"
    }
   ],
   "source": [
    "df['reason_start'].head(10)\n",
    "\n"
   ]
  },
  {
   "cell_type": "markdown",
   "id": "9a5a49ae-1495-46be-a502-885b16d29d99",
   "metadata": {},
   "source": [
    "# Replacing Null Values"
   ]
  },
  {
   "cell_type": "code",
   "execution_count": 19,
   "id": "9d869ae1-8e76-41c0-acea-d23751d087f7",
   "metadata": {},
   "outputs": [],
   "source": [
    "df['reason_start']  = df['reason_start'].fillna('missing')\n",
    "df['reason_end'] = df['reason_end'].fillna('missing')"
   ]
  },
  {
   "cell_type": "code",
   "execution_count": 20,
   "id": "a25fad31-f46c-42a3-920b-50f95df27895",
   "metadata": {},
   "outputs": [
    {
     "data": {
      "text/plain": [
       "spotify_track_uri    0\n",
       "ts                   0\n",
       "platform             0\n",
       "ms_played            0\n",
       "track_name           0\n",
       "artist_name          0\n",
       "album_name           0\n",
       "reason_start         0\n",
       "reason_end           0\n",
       "shuffle              0\n",
       "skipped              0\n",
       "date                 0\n",
       "hour                 0\n",
       "day                  0\n",
       "month                0\n",
       "seconds_played       0\n",
       "dtype: int64"
      ]
     },
     "execution_count": 20,
     "metadata": {},
     "output_type": "execute_result"
    }
   ],
   "source": [
    "df.isnull().sum()"
   ]
  },
  {
   "cell_type": "markdown",
   "id": "0eb352ea-668a-47d5-8894-cdebd5ff51cd",
   "metadata": {},
   "source": [
    "# ⏱️ Summary Statistics: Playback Duration\n",
    "\n",
    "## To understand overall listening behavior, we calculated several summary statistics from the seconds_played column, which represents the duration (in seconds) that each track was played:\n",
    "\n",
    "    Total Seconds Played: The sum of all playback durations, giving us the total time spent listening to music during the period covered by the dataset.\n",
    "\n",
    "    Mean (Average) Duration: The average amount of time a track was played. This helps identify whether full tracks are typically played or if listening sessions are shorter.\n",
    "\n",
    "    Median Duration: The midpoint of all durations, which is useful for understanding the central tendency of playback without being skewed by outliers.\n",
    "\n",
    "    Maximum Duration: The longest single playback session, indicating the most time spent on one track in a single instance.\n",
    "\n",
    "    Minimum Duration: The shortest recorded playback, which could represent skipped or partially played tracks."
   ]
  },
  {
   "cell_type": "code",
   "execution_count": 21,
   "id": "daffc79d-6e4d-4338-8607-11d20d59aafd",
   "metadata": {},
   "outputs": [
    {
     "name": "stdout",
     "output_type": "stream",
     "text": [
      "total seconds played : 19229530.935\n",
      "mean of seconds played : 131.595\n",
      "median of seconds played : 144.773\n",
      "max seconds played : 1561.125\n",
      "min seconds played : 0.001\n"
     ]
    }
   ],
   "source": [
    "total_seconds_played = df['seconds_played'].sum()\n",
    "print(f\"total seconds played : {total_seconds_played}\")\n",
    "mean_seconds_played = df['seconds_played'].mean()\n",
    "print(f\"mean of seconds played : {round(mean_seconds_played, 3)}\")\n",
    "median_seconds_played = df['seconds_played'].median()\n",
    "print(f\"median of seconds played : {median_seconds_played}\")\n",
    "max_seconds_played = df['seconds_played'].max()\n",
    "print(f\"max seconds played : {max_seconds_played}\")\n",
    "min_seconds_played = df['seconds_played'].min()\n",
    "print(f\"min seconds played : {min_seconds_played}\")"
   ]
  },
  {
   "cell_type": "markdown",
   "id": "6bc29b4c-786a-42f4-9df4-fa65b8b5661c",
   "metadata": {},
   "source": [
    "# 🎵 Track and Artist Overview\n",
    "\n",
    "## In this part of the analysis, we calculated two key metrics to understand the diversity and volume of the user's listening habits:\n",
    "\n",
    "    Total Tracks Played: This is the total number of individual track entries in the dataset, including repeated plays. It represents how many songs were listened to overall, regardless of repetition.\n",
    "\n",
    "    Unique Artists: This counts the number of distinct artists across all listening sessions. It provides insight into how varied the user's music taste is — whether they listen to a broad range of artists or concentrate on a few favorites."
   ]
  },
  {
   "cell_type": "code",
   "execution_count": 22,
   "id": "0feeaa7a-94e2-4afb-b7c0-28d4b0592e53",
   "metadata": {},
   "outputs": [
    {
     "name": "stdout",
     "output_type": "stream",
     "text": [
      " total tracks: 146127\n",
      " total_artists : 4079\n"
     ]
    }
   ],
   "source": [
    "count_total_tracks = df['track_name'].count()\n",
    "print(f\" total tracks: {count_total_tracks}\")\n",
    "count_unique_artists = df['artist_name'].nunique()\n",
    "print(f\" total_artists : {count_unique_artists}\")"
   ]
  },
  {
   "cell_type": "markdown",
   "id": "9d065bd7-465d-4168-91d2-583b596956df",
   "metadata": {},
   "source": [
    "# 💻 Tracks Per Platform\n",
    "\n",
    "To gain insight into which platforms were most commonly used for music playback, we grouped the data by the platform column and counted the number of tracks played on each.\n",
    "\n",
    "This revealed how many songs were streamed from each device or environment — such as mobile, desktop, web player, or other Spotify-supported platforms. This type of grouping helps identify user preferences for listening environments and can also uncover patterns in platform usage over time."
   ]
  },
  {
   "cell_type": "code",
   "execution_count": 23,
   "id": "8e1d83f0-4a8d-4078-869b-400c7b1a0e6b",
   "metadata": {},
   "outputs": [
    {
     "name": "stdout",
     "output_type": "stream",
     "text": [
      "Tracks per platform :\n",
      " platform\n",
      "android           136355\n",
      "cast to device      3803\n",
      "iOS                 2973\n",
      "mac                 1175\n",
      "web player           202\n",
      "windows             1619\n",
      "Name: track_name, dtype: int64\n"
     ]
    }
   ],
   "source": [
    "tracks_per_platform = df.groupby('platform')['track_name'].count()\n",
    "print(f\"Tracks per platform :\\n {tracks_per_platform}\")"
   ]
  },
  {
   "cell_type": "markdown",
   "id": "2169e7df-8653-4b7a-9778-23ab6a29c59c",
   "metadata": {},
   "source": [
    "# 🕒 Time-Based Listening Patterns\n",
    "\n",
    "## To better understand when the user tends to listen to music, we performed a temporal analysis by grouping the data by both day of the week and hour of the day:\n",
    "\n",
    "    Daily Listening Behavior:\n",
    "    We grouped the data by the day column (e.g., Monday to Sunday) and summed the total seconds played on each day. This revealed which days of the week had the most listening activity — for example, whether weekends or weekdays dominate music consumption.\n",
    "\n",
    "    Hourly Listening Behavior:\n",
    "    Similarly, we grouped by the hour column (ranging from 0 to 23) to identify peak listening hours throughout the day. This helps uncover trends such as morning routines, workday focus periods, or late-night music sessions."
   ]
  },
  {
   "cell_type": "code",
   "execution_count": 26,
   "id": "7c6872e9-0869-4fca-9fe3-d2f7fd2c9520",
   "metadata": {},
   "outputs": [
    {
     "name": "stdout",
     "output_type": "stream",
     "text": [
      "total seconds per day played : \n",
      " day\n",
      "1     763876.788\n",
      "2     750568.130\n",
      "3     627140.899\n",
      "4     609006.499\n",
      "5     590753.484\n",
      "6     635811.733\n",
      "7     671304.672\n",
      "8     619574.014\n",
      "9     615804.888\n",
      "10    629628.354\n",
      "11    542670.067\n",
      "12    653683.643\n",
      "13    688354.486\n",
      "14    585969.377\n",
      "15    647978.622\n",
      "16    590143.763\n",
      "17    657097.008\n",
      "18    564115.507\n",
      "19    598530.225\n",
      "20    665539.536\n",
      "21    851395.328\n",
      "22    767957.748\n",
      "23    676582.122\n",
      "24    621910.952\n",
      "25    527749.635\n",
      "26    544583.424\n",
      "27    532649.318\n",
      "28    614710.068\n",
      "29    613543.974\n",
      "30    452888.942\n",
      "31    318007.729\n",
      "Name: seconds_played, dtype: float64\n"
     ]
    },
    {
     "data": {
      "image/png": "[encoded data removed]",
      "text/plain": [
       "<Figure size 640x480 with 1 Axes>"
      ]
     },
     "metadata": {},
     "output_type": "display_data"
    },
    {
     "name": "stdout",
     "output_type": "stream",
     "text": [
      "============================================================\n",
      "total seconds per hour played : hour\n",
      "0     1312203.073\n",
      "1     1152781.434\n",
      "2     1042453.971\n",
      "3      995115.661\n",
      "4      843056.241\n",
      "5      823795.162\n",
      "6      806886.094\n",
      "7      510276.198\n",
      "8      302125.757\n",
      "9      208856.355\n",
      "10     149635.971\n",
      "11     106475.849\n",
      "12     105299.849\n",
      "13     228272.369\n",
      "14     408869.071\n",
      "15     563763.786\n",
      "16     984231.663\n",
      "17    1381863.288\n",
      "18    1383650.073\n",
      "19    1268453.764\n",
      "20    1300076.136\n",
      "21    1103120.343\n",
      "22    1010028.440\n",
      "23    1238240.387\n",
      "Name: seconds_played, dtype: float64\n"
     ]
    },
    {
     "data": {
      "image/png": "[encoded data removed]",
      "text/plain": [
       "<Figure size 640x480 with 1 Axes>"
      ]
     },
     "metadata": {},
     "output_type": "display_data"
    }
   ],
   "source": [
    "daily_total = df.groupby('day')['seconds_played'].sum()\n",
    "print(f\"total seconds per day played : \\n {daily_total}\")\n",
    "plt.bar(daily_total.index, daily_total.values, color = 'skyblue')\n",
    "plt.title('Seconds Per Day')\n",
    "plt.xlabel('days')\n",
    "plt.ylabel('seconds_played')\n",
    "plt.show()\n",
    "print('==='*20)\n",
    "hourly_total = df.groupby('hour')['seconds_played'].sum()\n",
    "print(f\"total seconds per hour played : {hourly_total}\")\n",
    "plt.bar(hourly_total.index, hourly_total.values, color = 'red')\n",
    "plt.title('Seconds Per Hour')\n",
    "plt.xlabel('Hours')\n",
    "plt.ylabel('seconds_played')\n",
    "plt.show()"
   ]
  },
  {
   "cell_type": "markdown",
   "id": "264b3e89-5abf-4fd2-9be4-8ef8fc742f8a",
   "metadata": {},
   "source": [
    "# 📱 Platform-Based Daily Listening Analysis\n",
    "## To examine user activity across different platforms and how it evolves over time, we grouped the listening data by both day and platform, then calculated the total listening duration in seconds for each combination.\n",
    "## 🔹 Daily Platform Totals\n",
    "### By grouping the data by the day and platform columns, we created a summary of total seconds_played per platform per day. This allows us to track usage patterns for each platform—whether desktop, mobile, or others—across different dates.\n",
    "## 🔹 Pivoted View for Comparison\n",
    "### The resulting data was reshaped using a pivot table with day as the index and platform as the columns. This provides an intuitive matrix to compare platform usage side-by-side across days, revealing trends such as:\n",
    "### - Which platforms dominate on specific weekdays or weekends\n",
    "### - Whether usage shifts based on the day (e.g. mobile rising on weekends, desktop on weekdays)\n",
    "### - Overall platform performance trends over time\n"
   ]
  },
  {
   "cell_type": "code",
   "execution_count": 31,
   "id": "3f0d7462-77c7-4840-9869-faa37754b6ed",
   "metadata": {},
   "outputs": [
    {
     "name": "stdout",
     "output_type": "stream",
     "text": [
      "platform     android  cast to device        iOS        mac  web player  \\\n",
      "day                                                                      \n",
      "1         684002.768       65523.534   2779.935        NaN         NaN   \n",
      "2         671736.702       27570.032  20591.522  16316.379         NaN   \n",
      "3         555541.860       21524.222  19422.639  25730.089         NaN   \n",
      "4         554418.064       21438.271  10676.071  14450.180         NaN   \n",
      "5         534428.065       11901.879  44423.540        NaN         NaN   \n",
      "6         575613.844       20183.552  21423.943  13120.379         NaN   \n",
      "7         602768.606       22117.408  27542.158  11127.068         NaN   \n",
      "8         539434.790       16164.731  19941.013  24930.009    6611.670   \n",
      "9         500403.457       30663.093  28023.366  18779.498   18492.706   \n",
      "10        556375.581       15785.528  34978.327  10615.034       1.826   \n",
      "11        521474.080        4150.834   6223.095  10365.531         NaN   \n",
      "12        616651.911        4609.164  19734.945  12686.612         NaN   \n",
      "13        646806.094       29879.568   8317.687    127.619      29.924   \n",
      "14        541070.290       29935.875   6307.355   8436.077         NaN   \n",
      "15        584112.127       41311.773  11867.868   5880.237         NaN   \n",
      "16        571847.269        4830.758   2345.138  11119.578         NaN   \n",
      "17        574708.599       48829.701  11791.879  16495.383         NaN   \n",
      "18        510708.686       30897.299  13313.932   4914.063         NaN   \n",
      "19        513189.859       48991.918  11373.260  14426.771         NaN   \n",
      "20        647100.959       11778.367   2563.675    705.431         NaN   \n",
      "21        776438.152       30313.288  36749.139   6826.430         NaN   \n",
      "22        709148.271       24059.317  31789.213   2737.141         NaN   \n",
      "23        629963.409        9015.919  16805.831   4866.816         NaN   \n",
      "24        518951.075       26099.109  25852.912   3120.558         NaN   \n",
      "25        499659.497       13117.727   1238.279   5976.584         NaN   \n",
      "26        516590.359       21396.785   6594.310        NaN         NaN   \n",
      "27        507582.077       19094.990   5787.151        NaN         NaN   \n",
      "28        536372.351       33624.652  31311.919   8026.059         NaN   \n",
      "29        576678.899       13721.609   3900.412    129.423         NaN   \n",
      "30        423383.606       15644.740  10366.882        NaN         NaN   \n",
      "31        291633.871       12800.557   8913.695        NaN         NaN   \n",
      "\n",
      "platform    windows  \n",
      "day                  \n",
      "1         11570.551  \n",
      "2         14353.495  \n",
      "3          4922.089  \n",
      "4          8023.913  \n",
      "5               NaN  \n",
      "6          5470.015  \n",
      "7          7749.432  \n",
      "8         12491.801  \n",
      "9         19442.768  \n",
      "10        11872.058  \n",
      "11          456.527  \n",
      "12            1.011  \n",
      "13         3193.594  \n",
      "14          219.780  \n",
      "15         4806.617  \n",
      "16            1.020  \n",
      "17         5271.446  \n",
      "18         4281.527  \n",
      "19        10548.417  \n",
      "20         3391.104  \n",
      "21         1068.319  \n",
      "22          223.806  \n",
      "23        15930.147  \n",
      "24        47887.298  \n",
      "25         7757.548  \n",
      "26            1.970  \n",
      "27          185.100  \n",
      "28         5375.087  \n",
      "29        19113.631  \n",
      "30         3493.714  \n",
      "31         4659.606  \n"
     ]
    }
   ],
   "source": [
    "# Group by date and platform, then sum seconds_played\n",
    "daily_platform_seconds = df.groupby(['day', 'platform'])['seconds_played'].sum().reset_index()\n",
    "\n",
    "# Optional: Pivot for easier visualization\n",
    "pivot_df = daily_platform_seconds.pivot(index='day', columns='platform', values='seconds_played')\n",
    "\n",
    "print(pivot_df)"
   ]
  },
  {
   "cell_type": "markdown",
   "id": "66ab5cac-7aa3-4e66-933f-860392c36ed8",
   "metadata": {},
   "source": [
    "# 📊 Platform Usage Distribution\n",
    "## To get a high-level view of user engagement across different platforms, we aggregated the total listening time (seconds_played) and visualized the share each platform holds.\n",
    "## 🔹 Total Playtime by Platform\n",
    "## We grouped the dataset by the platform column and summed the seconds_played, revealing the overall listening duration contributed by each platform. This highlights which platforms drive the most music consumption—whether mobile apps, desktop clients, or web players.\n",
    "## 🔹 Pie Chart Visualization\n",
    "### The data was then visualized using a pie chart to display each platform’s proportion of total listening time:\n",
    "### - Each slice represents a platform.\n",
    "### - Labels indicate the platform name.\n",
    "### - Percentage values provide a quick glance at usage share.\n",
    "### The circular layout ensures a balanced and easy-to-read format, perfect for conveying relative engagement across platforms at a glance.\n"
   ]
  },
  {
   "cell_type": "code",
   "execution_count": 33,
   "id": "daf7b1ab-c5fe-4892-9284-3f0af88567ae",
   "metadata": {},
   "outputs": [
    {
     "data": {
      "image/png": "[encoded data removed]",
      "text/plain": [
       "<Figure size 640x480 with 1 Axes>"
      ]
     },
     "metadata": {},
     "output_type": "display_data"
    }
   ],
   "source": [
    "seconds_played_per_platform = df.groupby('platform')['seconds_played'].sum()\n",
    "\n",
    "seconds_played_per_platform\n",
    "# Plot pie chart\n",
    "plt.pie(\n",
    "    seconds_played_per_platform.values,\n",
    "    labels=seconds_played_per_platform.index,\n",
    "    autopct='%1.1f%%'\n",
    ")\n",
    "\n",
    "plt.title('Distribution of Seconds Played by Platform')\n",
    "plt.axis('equal')  # Ensures the pie is a circle\n",
    "plt.tight_layout()\n",
    "plt.show()"
   ]
  },
  {
   "cell_type": "markdown",
   "id": "d8940b28-6572-4ffb-88a6-099b7f8882ac",
   "metadata": {},
   "source": [
    "# 🎵 Top 10 Most-Played Songs\n",
    "## To highlight user favorites, we summed the total listening time for each track using the track_name column. After sorting the songs by their accumulated seconds_played, we extracted the top 10—revealing the most popular tracks based on actual play duration.\n",
    "## This metric provides a strong signal of listening engagement, spotlighting the tracks that users return to again and again.\n"
   ]
  },
  {
   "cell_type": "code",
   "execution_count": 35,
   "id": "79d717d1-af1a-4c2e-8017-2439343e33da",
   "metadata": {},
   "outputs": [
    {
     "name": "stdout",
     "output_type": "stream",
     "text": [
      "Top 10 Songs by seconds played : \n",
      "track_name\n",
      "Ode To The Mets                                                                        67431.580\n",
      "The Return of the King (feat. Sir James Galway, Viggo Mortensen and Renee Fleming)     64401.661\n",
      "The Fellowship Reunited (feat. Sir James Galway, Viggo Mortensen and Renée Fleming)    44756.730\n",
      "19 Dias y 500 Noches - En Directo                                                      42914.042\n",
      "In the Blood                                                                           38427.087\n",
      "Claudia's Theme - Version Eight                                                        37120.900\n",
      "Dying Breed                                                                            36182.653\n",
      "The Breaking of the Fellowship (feat. \"In Dreams\")                                     35990.898\n",
      "All These Things That I've Done                                                        35754.915\n",
      "Caution                                                                                35619.945\n",
      "Name: seconds_played, dtype: float64\n"
     ]
    }
   ],
   "source": [
    "top_10_songs = df.groupby('track_name')['seconds_played'].sum().sort_values(ascending = False).head(10)\n",
    "print(f\"Top 10 Songs by seconds played : \\n{top_10_songs}\")"
   ]
  },
  {
   "cell_type": "markdown",
   "id": "367558ac-f6df-4905-828c-5e8e71500bb7",
   "metadata": {},
   "source": [
    "# 🎤 Top 10 Most-Played Artists\n",
    "## To spotlight the music creators with the highest engagement, we summed up total listening time (seconds_played) per artist_name. By sorting these totals in descending order and selecting the top 10, we surfaced the most popular artists based on how long users spent listening to their music.\n"
   ]
  },
  {
   "cell_type": "code",
   "execution_count": 36,
   "id": "9f66ba50-8355-4849-b161-87aae0788c34",
   "metadata": {},
   "outputs": [
    {
     "name": "stdout",
     "output_type": "stream",
     "text": [
      "Top 10 Bands or Artists played by time : \n",
      "artist_name\n",
      "The Beatles           1210184.552\n",
      "The Killers           1059556.516\n",
      "John Mayer             725219.443\n",
      "Bob Dylan              569456.396\n",
      "Paul McCartney         357354.370\n",
      "Howard Shore           348930.675\n",
      "The Strokes            317508.419\n",
      "The Rolling Stones     307917.009\n",
      "Pink Floyd             260531.842\n",
      "Led Zeppelin           248338.279\n",
      "Name: seconds_played, dtype: float64\n"
     ]
    }
   ],
   "source": [
    "top_10_artists = df.groupby('artist_name')['seconds_played'].sum().sort_values(ascending = False).head(10)\n",
    "print(f\"Top 10 Bands or Artists played by time : \\n{top_10_artists}\")"
   ]
  },
  {
   "cell_type": "markdown",
   "id": "bdd408ed-79d4-45f5-92f7-2fa87a7650ef",
   "metadata": {},
   "source": [
    "# 🚫 Top 10 Most-Skipped Songs\n",
    "## To uncover which tracks users were least likely to finish, we filtered the dataset for entries where the skipped flag was True. Then, we grouped by track_name and counted the number of skips per song.\n",
    "## By sorting these counts in descending order and selecting the top 10, we surfaced the songs that most frequently prompted users to hit \"next.\"\n"
   ]
  },
  {
   "cell_type": "code",
   "execution_count": 37,
   "id": "30439c13-dbcb-4ff1-b923-0d0e419bb098",
   "metadata": {},
   "outputs": [
    {
     "name": "stdout",
     "output_type": "stream",
     "text": [
      "Top 10 Most skipped Songs : track_name\n",
      "Paraíso                                              29\n",
      "Superheroes                                          20\n",
      "Photograph                                           19\n",
      "Old Thing Back (feat. Ja Rule and Ralph Tresvant)    19\n",
      "Switzerland                                          19\n",
      "What Do You Mean?                                    18\n",
      "Drag Me Down                                         18\n",
      "Diez Mil Maneras                                     16\n",
      "Queen of Hearts                                      14\n",
      "Stitches                                             14\n",
      "dtype: int64 \n"
     ]
    }
   ],
   "source": [
    "skipped_songs = df[df['skipped'] == True]\n",
    "top_10_most_skipped_songs = skipped_songs.groupby('track_name').size().sort_values(ascending = False).head(10)\n",
    "print(f\"Top 10 Most skipped Songs : {top_10_most_skipped_songs} \")"
   ]
  },
  {
   "cell_type": "markdown",
   "id": "84e01a93-e52c-4c83-abcc-d62cd4c5c2af",
   "metadata": {},
   "source": [
    "# 🧭 Start Reason Percentage Distribution\n",
    "## To uncover how tracks are typically initiated during listening sessions, we analyzed the reason_start column and calculated the percentage share of each start reason.\n",
    "## 🔹 Aggregation of Start Reasons\n",
    "### Using value_counts(normalize=True), we determined how often each start reason appears—whether it's user-driven, playlist-based, autoplay, or any other trigger. The result is a percentage-based summary, reflecting the relative prominence of each initiation method.\n",
    "## 🔹 Bar Chart Visualization\n",
    "### The data was plotted as a bar chart, with:\n",
    "### - Each bar representing a different start reason.\n",
    "### - Bar heights corresponding to their percentage share.\n",
    "### - Clear labeling and rotation for readability.\n"
   ]
  },
  {
   "cell_type": "code",
   "execution_count": 48,
   "id": "577dd341-2128-45d0-8dc5-ae53be584a3c",
   "metadata": {},
   "outputs": [
    {
     "data": {
      "image/png": "[encoded data removed]",
      "text/plain": [
       "<Figure size 640x480 with 1 Axes>"
      ]
     },
     "metadata": {},
     "output_type": "display_data"
    }
   ],
   "source": [
    "# Count how many times each start reason appears\n",
    "start_reason_counts = df['reason_start'].value_counts(normalize=True) * 100\n",
    "\n",
    "# Plot bar chart\n",
    "plt.bar(start_reason_counts.index, start_reason_counts.values, color='skyblue')\n",
    "plt.title('Start Reason Percentage Distribution')\n",
    "plt.xlabel('Start Reason')\n",
    "plt.ylabel('Percentage (%)')\n",
    "plt.xticks(rotation=45)\n",
    "plt.tight_layout()\n",
    "plt.show()"
   ]
  },
  {
   "cell_type": "code",
   "execution_count": null,
   "id": "a7433c43-abbf-4ace-82c5-ce8071680631",
   "metadata": {},
   "outputs": [],
   "source": []
  }
 ],
 "metadata": {
  "kernelspec": {
   "display_name": "Python 3 (ipykernel)",
   "language": "python",
   "name": "python3"
  },
  "language_info": {
   "codemirror_mode": {
    "name": "ipython",
    "version": 3
   },
   "file_extension": ".py",
   "mimetype": "text/x-python",
   "name": "python",
   "nbconvert_exporter": "python",
   "pygments_lexer": "ipython3",
   "version": "3.13.1"
  }
 },
 "nbformat": 4,
 "nbformat_minor": 5
}
